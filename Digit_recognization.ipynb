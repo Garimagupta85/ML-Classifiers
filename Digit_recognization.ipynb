{
  "nbformat": 4,
  "nbformat_minor": 0,
  "metadata": {
    "colab": {
      "name": "Digit_recognization.ipynb",
      "version": "0.3.2",
      "provenance": [],
      "collapsed_sections": []
    },
    "kernelspec": {
      "name": "python3",
      "display_name": "Python 3"
    }
  },
  "cells": [
    {
      "metadata": {
        "id": "-D0V13htgPIe",
        "colab_type": "code",
        "colab": {}
      },
      "cell_type": "code",
      "source": [
        "#importing all required keras libraries\n",
        "import keras\n",
        "from keras.datasets import mnist\n",
        "from keras.models import Sequential\n",
        "from keras.layers import Dense,Activation,Flatten\n",
        "from keras.layers import Conv2D, MaxPooling2D\n",
        "from keras.preprocessing.image import ImageDataGenerator\n",
        "import cv2\n",
        "import numpy as np\n",
        "from collections import deque\n",
        "num_classes = 10\n",
        "batch_size = 250\n",
        "epochs = 10"
      ],
      "execution_count": 0,
      "outputs": []
    },
    {
      "metadata": {
        "id": "G8xJv7aNgrms",
        "colab_type": "code",
        "colab": {}
      },
      "cell_type": "code",
      "source": [
        "#loading dataset(already has test,train sets)\n",
        "(x_train,y_train),(x_test,y_test)=mnist.load_data()\n",
        "#reshaping the datasets and also normalizing it\n",
        "x_train = x_train.reshape(x_train.shape[0],28,28,1)\n",
        "x_test = x_test.reshape(x_test.shape[0],28,28,1)\n",
        "x_train = x_train.astype('float32')\n",
        "x_test = x_test.astype('float32')\n",
        "x_train /= 255\n",
        "x_test /=255\n",
        "#converting dataset(labels) to binary\n",
        "y_train = keras.utils.to_categorical(y_train,num_classes)\n",
        "y_test = keras.utils.to_categorical(y_test,num_classes)\n",
        "\n"
      ],
      "execution_count": 0,
      "outputs": []
    },
    {
      "metadata": {
        "id": "JQusIcS0gPU5",
        "colab_type": "code",
        "colab": {}
      },
      "cell_type": "code",
      "source": [
        "#neural network structure\n",
        "model = Sequential()\n",
        "#1st convolution layer\n",
        "model.add(Conv2D(32, (3, 3)\n",
        " ,input_shape=(28,28,1)))\n",
        "model.add(Activation('relu'))\n",
        "model.add(MaxPooling2D(pool_size=(2,2)))\n",
        "#2nd convolution layer\n",
        "model.add(Conv2D(64,(3, 3)))\n",
        "model.add(Activation('relu'))\n",
        "model.add(MaxPooling2D(pool_size=(2,2)))\n",
        "model.add(Flatten())\n",
        "# Fully connected layer.\n",
        "model.add(Dense(512))\n",
        "model.add(Activation('relu'))\n",
        "#10 outputs\n",
        "model.add(Dense(num_classes, activation='softmax'))\n",
        "\n"
      ],
      "execution_count": 0,
      "outputs": []
    },
    {
      "metadata": {
        "id": "40nuZa55gPbf",
        "colab_type": "code",
        "outputId": "f41406ca-3536-45e6-fa08-0f4238d695fc",
        "colab": {
          "base_uri": "https://localhost:8080/",
          "height": 374
        }
      },
      "cell_type": "code",
      "source": [
        "gen = ImageDataGenerator()\n",
        "train_generator = gen.flow(x_train, y_train, batch_size=batch_size)\n",
        "#Training\n",
        "model.compile(loss='categorical_crossentropy'\n",
        "  , optimizer=keras.optimizers.Adam()\n",
        " , metrics=['accuracy']\n",
        ")\n",
        "\n",
        "model.fit_generator(train_generator, steps_per_epoch=batch_size, epochs=epochs,\n",
        "\tvalidation_data=(x_test, y_test)\n",
        ")\n"
      ],
      "execution_count": 13,
      "outputs": [
        {
          "output_type": "stream",
          "text": [
            "Epoch 1/10\n",
            "250/250 [==============================] - 61s 245ms/step - loss: 0.2231 - acc: 0.9365 - val_loss: 0.0697 - val_acc: 0.9788\n",
            "Epoch 2/10\n",
            "250/250 [==============================] - 60s 240ms/step - loss: 0.0565 - acc: 0.9823 - val_loss: 0.0480 - val_acc: 0.9845\n",
            "Epoch 3/10\n",
            "250/250 [==============================] - 60s 241ms/step - loss: 0.0395 - acc: 0.9875 - val_loss: 0.0422 - val_acc: 0.9866\n",
            "Epoch 4/10\n",
            "250/250 [==============================] - 61s 245ms/step - loss: 0.0297 - acc: 0.9907 - val_loss: 0.0328 - val_acc: 0.9885\n",
            "Epoch 5/10\n",
            "250/250 [==============================] - 61s 243ms/step - loss: 0.0220 - acc: 0.9935 - val_loss: 0.0363 - val_acc: 0.9877\n",
            "Epoch 6/10\n",
            "250/250 [==============================] - 60s 241ms/step - loss: 0.0181 - acc: 0.9942 - val_loss: 0.0291 - val_acc: 0.9910\n",
            "Epoch 7/10\n",
            "250/250 [==============================] - 60s 241ms/step - loss: 0.0140 - acc: 0.9955 - val_loss: 0.0302 - val_acc: 0.9907\n",
            "Epoch 8/10\n",
            "250/250 [==============================] - 60s 242ms/step - loss: 0.0106 - acc: 0.9968 - val_loss: 0.0259 - val_acc: 0.9920\n",
            "Epoch 9/10\n",
            "250/250 [==============================] - 61s 243ms/step - loss: 0.0090 - acc: 0.9972 - val_loss: 0.0253 - val_acc: 0.9920\n",
            "Epoch 10/10\n",
            "250/250 [==============================] - 60s 241ms/step - loss: 0.0061 - acc: 0.9981 - val_loss: 0.0286 - val_acc: 0.9925\n"
          ],
          "name": "stdout"
        },
        {
          "output_type": "execute_result",
          "data": {
            "text/plain": [
              "<keras.callbacks.History at 0x7fea32c03828>"
            ]
          },
          "metadata": {
            "tags": []
          },
          "execution_count": 13
        }
      ]
    },
    {
      "metadata": {
        "id": "EbBDlQQ3gPij",
        "colab_type": "code",
        "colab": {
          "base_uri": "https://localhost:8080/",
          "height": 51
        },
        "outputId": "882df231-12bf-40f4-884d-53aadd73b1cc"
      },
      "cell_type": "code",
      "source": [
        "#test the trained model\n",
        "score = model.evaluate(x_test, y_test, verbose=0)\n",
        "print('Test loss:', score[0])\n",
        "print('Test accuracy:', 100*score[1])\n",
        "predictions = model.predict(x_test)\n",
        "\n"
      ],
      "execution_count": 15,
      "outputs": [
        {
          "output_type": "stream",
          "text": [
            "Test loss: 0.028616871431402933\n",
            "Test accuracy: 99.25\n"
          ],
          "name": "stdout"
        }
      ]
    }
  ]
}