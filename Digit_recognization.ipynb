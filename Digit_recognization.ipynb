{
 "cells": [
  {
   "cell_type": "code",
   "execution_count": 11,
   "metadata": {
    "colab": {},
    "colab_type": "code",
    "id": "-D0V13htgPIe"
   },
   "outputs": [],
   "source": [
    "#importing all required keras libraries\n",
    "import keras\n",
    "from keras.datasets import mnist\n",
    "from keras.models import Sequential\n",
    "from keras.layers import Dense,Activation,Flatten\n",
    "from keras.layers import Conv2D, MaxPooling2D\n",
    "from keras.preprocessing.image import ImageDataGenerator\n",
    "import cv2\n",
    "import numpy as np\n",
    "from collections import deque\n",
    "num_classes = 10\n",
    "batch_size = 250\n",
    "epochs = 10"
   ]
  },
  {
   "cell_type": "code",
   "execution_count": 12,
   "metadata": {
    "colab": {},
    "colab_type": "code",
    "id": "G8xJv7aNgrms"
   },
   "outputs": [],
   "source": [
    "#loading dataset(already has test,train sets)\n",
    "(x_train,y_train),(x_test,y_test)=mnist.load_data()\n",
    "#reshaping the datasets and also normalizing it\n",
    "x_train = x_train.reshape(x_train.shape[0],28,28,1)\n",
    "x_test = x_test.reshape(x_test.shape[0],28,28,1)\n",
    "x_train = x_train.astype('float32')\n",
    "x_test = x_test.astype('float32')\n",
    "x_train /= 255\n",
    "x_test /=255\n",
    "#converting dataset(labels) to binary\n",
    "y_train = keras.utils.to_categorical(y_train,num_classes)\n",
    "y_test = keras.utils.to_categorical(y_test,num_classes)\n",
    "\n"
   ]
  },
  {
   "cell_type": "code",
   "execution_count": 13,
   "metadata": {
    "colab": {},
    "colab_type": "code",
    "id": "JQusIcS0gPU5"
   },
   "outputs": [
    {
     "name": "stdout",
     "output_type": "stream",
     "text": [
      "_________________________________________________________________\n",
      "Layer (type)                 Output Shape              Param #   \n",
      "=================================================================\n",
      "conv2d_3 (Conv2D)            (None, 26, 26, 32)        320       \n",
      "_________________________________________________________________\n",
      "activation_4 (Activation)    (None, 26, 26, 32)        0         \n",
      "_________________________________________________________________\n",
      "max_pooling2d_3 (MaxPooling2 (None, 13, 13, 32)        0         \n",
      "_________________________________________________________________\n",
      "conv2d_4 (Conv2D)            (None, 11, 11, 64)        18496     \n",
      "_________________________________________________________________\n",
      "activation_5 (Activation)    (None, 11, 11, 64)        0         \n",
      "_________________________________________________________________\n",
      "max_pooling2d_4 (MaxPooling2 (None, 5, 5, 64)          0         \n",
      "_________________________________________________________________\n",
      "flatten_2 (Flatten)          (None, 1600)              0         \n",
      "_________________________________________________________________\n",
      "dense_3 (Dense)              (None, 512)               819712    \n",
      "_________________________________________________________________\n",
      "activation_6 (Activation)    (None, 512)               0         \n",
      "_________________________________________________________________\n",
      "dense_4 (Dense)              (None, 10)                5130      \n",
      "=================================================================\n",
      "Total params: 843,658\n",
      "Trainable params: 843,658\n",
      "Non-trainable params: 0\n",
      "_________________________________________________________________\n"
     ]
    }
   ],
   "source": [
    "#neural network structure\n",
    "model = Sequential()\n",
    "#1st convolution layer\n",
    "model.add(Conv2D(32, (3, 3)\n",
    " ,input_shape=(28,28,1)))\n",
    "model.add(Activation('relu'))\n",
    "model.add(MaxPooling2D(pool_size=(2,2)))\n",
    "#2nd convolution layer\n",
    "model.add(Conv2D(64,(3, 3)))\n",
    "model.add(Activation('relu'))\n",
    "model.add(MaxPooling2D(pool_size=(2,2)))\n",
    "model.add(Flatten())\n",
    "# Fully connected layer.\n",
    "model.add(Dense(512))\n",
    "model.add(Activation('relu'))\n",
    "#10 outputs\n",
    "model.add(Dense(num_classes, activation='softmax'))\n",
    "\n",
    "model.summary()"
   ]
  },
  {
   "cell_type": "code",
   "execution_count": 14,
   "metadata": {
    "colab": {
     "base_uri": "https://localhost:8080/",
     "height": 374
    },
    "colab_type": "code",
    "id": "40nuZa55gPbf",
    "outputId": "f41406ca-3536-45e6-fa08-0f4238d695fc"
   },
   "outputs": [
    {
     "name": "stdout",
     "output_type": "stream",
     "text": [
      "Epoch 1/10\n",
      "250/250 [==============================] - 13s 51ms/step - loss: 0.2229 - acc: 0.9361 - val_loss: 0.0608 - val_acc: 0.9797\n",
      "Epoch 2/10\n",
      "250/250 [==============================] - 13s 51ms/step - loss: 0.0547 - acc: 0.9832 - val_loss: 0.0398 - val_acc: 0.9880\n",
      "Epoch 3/10\n",
      "250/250 [==============================] - 13s 52ms/step - loss: 0.0386 - acc: 0.9879 - val_loss: 0.0318 - val_acc: 0.9887\n",
      "Epoch 4/10\n",
      "250/250 [==============================] - 13s 52ms/step - loss: 0.0267 - acc: 0.9919 - val_loss: 0.0311 - val_acc: 0.9900\n",
      "Epoch 5/10\n",
      "250/250 [==============================] - 13s 53ms/step - loss: 0.0220 - acc: 0.9934 - val_loss: 0.0282 - val_acc: 0.9909\n",
      "Epoch 6/10\n",
      "250/250 [==============================] - 13s 52ms/step - loss: 0.0160 - acc: 0.9948 - val_loss: 0.0275 - val_acc: 0.9912\n",
      "Epoch 7/10\n",
      "250/250 [==============================] - 13s 53ms/step - loss: 0.0133 - acc: 0.9960 - val_loss: 0.0287 - val_acc: 0.9907\n",
      "Epoch 8/10\n",
      "250/250 [==============================] - 13s 54ms/step - loss: 0.0114 - acc: 0.9966 - val_loss: 0.0293 - val_acc: 0.9902\n",
      "Epoch 9/10\n",
      "250/250 [==============================] - 14s 56ms/step - loss: 0.0078 - acc: 0.9977 - val_loss: 0.0279 - val_acc: 0.9914\n",
      "Epoch 10/10\n",
      "250/250 [==============================] - 14s 54ms/step - loss: 0.0072 - acc: 0.9977 - val_loss: 0.0259 - val_acc: 0.9925\n"
     ]
    },
    {
     "data": {
      "text/plain": [
       "<keras.callbacks.History at 0x7f11e0047d50>"
      ]
     },
     "execution_count": 14,
     "metadata": {},
     "output_type": "execute_result"
    }
   ],
   "source": [
    "gen = ImageDataGenerator()\n",
    "train_generator = gen.flow(x_train, y_train, batch_size=batch_size)\n",
    "#Training\n",
    "model.compile(loss='categorical_crossentropy'\n",
    "  , optimizer=keras.optimizers.Adam()\n",
    " , metrics=['accuracy']\n",
    ")\n",
    "\n",
    "model.fit_generator(train_generator, steps_per_epoch=batch_size, epochs=epochs,\n",
    "\tvalidation_data=(x_test, y_test)\n",
    ")\n"
   ]
  },
  {
   "cell_type": "code",
   "execution_count": 15,
   "metadata": {
    "colab": {
     "base_uri": "https://localhost:8080/",
     "height": 51
    },
    "colab_type": "code",
    "id": "EbBDlQQ3gPij",
    "outputId": "882df231-12bf-40f4-884d-53aadd73b1cc"
   },
   "outputs": [
    {
     "name": "stdout",
     "output_type": "stream",
     "text": [
      "('Test loss:', 0.025933161903122254)\n",
      "('Test accuracy:', 99.25)\n"
     ]
    }
   ],
   "source": [
    "#test the trained model\n",
    "score = model.evaluate(x_test, y_test, verbose=0)\n",
    "print('Test loss:', score[0])\n",
    "print('Test accuracy:', 100*score[1])\n",
    "predictions = model.predict(x_test)"
   ]
  },
  {
   "cell_type": "code",
   "execution_count": 17,
   "metadata": {},
   "outputs": [
    {
     "data": {
      "image/png": "[encoded data removed]",
      "text/plain": [
       "<Figure size 1440x576 with 15 Axes>"
      ]
     },
     "metadata": {},
     "output_type": "display_data"
    }
   ],
   "source": [
    "import matplotlib.pyplot as plt\n",
    "\n",
    "# Plot a random sample of 10 test images, their predicted labels and ground truth\n",
    "figure = plt.figure(figsize=(20, 8))\n",
    "for i, index in enumerate(np.random.choice(x_test.shape[0], size=15, replace=False)):\n",
    "    ax = figure.add_subplot(3, 5, i + 1, xticks=[], yticks=[])\n",
    "    # Display each image\n",
    "    ax.imshow(np.squeeze(x_test[index]))"
   ]
  }
 ],
 "metadata": {
  "colab": {
   "collapsed_sections": [],
   "name": "Digit_recognization.ipynb",
   "provenance": [],
   "version": "0.3.2"
  },
  "kernelspec": {
   "display_name": "Python 2",
   "language": "python",
   "name": "python2"
  },
  "language_info": {
   "codemirror_mode": {
    "name": "ipython",
    "version": 2
   },
   "file_extension": ".py",
   "mimetype": "text/x-python",
   "name": "python",
   "nbconvert_exporter": "python",
   "pygments_lexer": "ipython2",
   "version": "2.7.12"
  }
 },
 "nbformat": 4,
 "nbformat_minor": 1
}
